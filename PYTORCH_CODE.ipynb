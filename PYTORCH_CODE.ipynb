{
  "nbformat": 4,
  "nbformat_minor": 0,
  "metadata": {
    "colab": {
      "provenance": [],
      "authorship_tag": "ABX9TyOVrmGc4s1UI/ikJykZWX+7",
      "include_colab_link": true
    },
    "kernelspec": {
      "name": "python3",
      "display_name": "Python 3"
    },
    "language_info": {
      "name": "python"
    }
  },
  "cells": [
    {
      "cell_type": "markdown",
      "metadata": {
        "id": "view-in-github",
        "colab_type": "text"
      },
      "source": [
        "<a href=\"https://colab.research.google.com/github/EUsanjeev18/Jupyter-first/blob/main/PYTORCH_CODE.ipynb\" target=\"_parent\"><img src=\"https://colab.research.google.com/assets/colab-badge.svg\" alt=\"Open In Colab\"/></a>"
      ]
    },
    {
      "cell_type": "code",
      "execution_count": null,
      "metadata": {
        "colab": {
          "base_uri": "https://localhost:8080/",
          "height": 36
        },
        "id": "FOrnkRX7TvJb",
        "outputId": "d82c53a0-09ae-453e-a292-3b579219a449"
      },
      "outputs": [
        {
          "output_type": "execute_result",
          "data": {
            "text/plain": [
              "'2.1.0+cu118'"
            ],
            "application/vnd.google.colaboratory.intrinsic+json": {
              "type": "string"
            }
          },
          "metadata": {},
          "execution_count": 1
        }
      ],
      "source": [
        "import torch\n",
        "from torch import nn\n",
        "import matplotlib.pyplot as plt\n",
        "\n",
        "torch.__version__"
      ]
    },
    {
      "cell_type": "code",
      "source": [
        " weight = 0.7\n",
        " bias = 0.3\n",
        " start = 0\n",
        " end = 1\n",
        " step = 0.02\n",
        " X = torch.arange(start,end,step).unsqueeze(dim  = 1)\n",
        " y = weight*X + bias\n",
        "\n",
        " X[:10],y[:10]"
      ],
      "metadata": {
        "colab": {
          "base_uri": "https://localhost:8080/"
        },
        "id": "IQNBIHYSUSpD",
        "outputId": "c379d58c-9b9e-423b-9f18-c48eac332167"
      },
      "execution_count": null,
      "outputs": [
        {
          "output_type": "execute_result",
          "data": {
            "text/plain": [
              "(tensor([[0.0000],\n",
              "         [0.0200],\n",
              "         [0.0400],\n",
              "         [0.0600],\n",
              "         [0.0800],\n",
              "         [0.1000],\n",
              "         [0.1200],\n",
              "         [0.1400],\n",
              "         [0.1600],\n",
              "         [0.1800]]),\n",
              " tensor([[0.3000],\n",
              "         [0.3140],\n",
              "         [0.3280],\n",
              "         [0.3420],\n",
              "         [0.3560],\n",
              "         [0.3700],\n",
              "         [0.3840],\n",
              "         [0.3980],\n",
              "         [0.4120],\n",
              "         [0.4260]]))"
            ]
          },
          "metadata": {},
          "execution_count": 2
        }
      ]
    },
    {
      "cell_type": "code",
      "source": [
        "len(X)"
      ],
      "metadata": {
        "colab": {
          "base_uri": "https://localhost:8080/"
        },
        "id": "acODcqHI9fLg",
        "outputId": "71f3eb74-a8c1-47c2-8bd0-80b3aa2186cd"
      },
      "execution_count": null,
      "outputs": [
        {
          "output_type": "execute_result",
          "data": {
            "text/plain": [
              "50"
            ]
          },
          "metadata": {},
          "execution_count": 3
        }
      ]
    },
    {
      "cell_type": "code",
      "source": [
        "len(y)"
      ],
      "metadata": {
        "colab": {
          "base_uri": "https://localhost:8080/"
        },
        "id": "ydRYTr5P-HhJ",
        "outputId": "626cb975-c1e6-478f-e61e-5f2a2b6885af"
      },
      "execution_count": null,
      "outputs": [
        {
          "output_type": "execute_result",
          "data": {
            "text/plain": [
              "50"
            ]
          },
          "metadata": {},
          "execution_count": 4
        }
      ]
    },
    {
      "cell_type": "code",
      "source": [
        "train_split = int(0.8*len(X))\n",
        "train_split"
      ],
      "metadata": {
        "colab": {
          "base_uri": "https://localhost:8080/"
        },
        "id": "Ma5B4RX--JP8",
        "outputId": "67b0c374-dd64-44e0-8a8c-121af9470b3c"
      },
      "execution_count": null,
      "outputs": [
        {
          "output_type": "execute_result",
          "data": {
            "text/plain": [
              "40"
            ]
          },
          "metadata": {},
          "execution_count": 5
        }
      ]
    },
    {
      "cell_type": "code",
      "source": [
        "X_train,y_train = X[:train_split],y[:train_split]\n",
        "X_test,y_test = X[train_split:],y[train_split:]\n",
        "X_train,y_train"
      ],
      "metadata": {
        "colab": {
          "base_uri": "https://localhost:8080/"
        },
        "id": "keHAI6Nw_f6c",
        "outputId": "29c165db-8629-4e52-e253-a869de4dd85f"
      },
      "execution_count": null,
      "outputs": [
        {
          "output_type": "execute_result",
          "data": {
            "text/plain": [
              "(tensor([[0.0000],\n",
              "         [0.0200],\n",
              "         [0.0400],\n",
              "         [0.0600],\n",
              "         [0.0800],\n",
              "         [0.1000],\n",
              "         [0.1200],\n",
              "         [0.1400],\n",
              "         [0.1600],\n",
              "         [0.1800],\n",
              "         [0.2000],\n",
              "         [0.2200],\n",
              "         [0.2400],\n",
              "         [0.2600],\n",
              "         [0.2800],\n",
              "         [0.3000],\n",
              "         [0.3200],\n",
              "         [0.3400],\n",
              "         [0.3600],\n",
              "         [0.3800],\n",
              "         [0.4000],\n",
              "         [0.4200],\n",
              "         [0.4400],\n",
              "         [0.4600],\n",
              "         [0.4800],\n",
              "         [0.5000],\n",
              "         [0.5200],\n",
              "         [0.5400],\n",
              "         [0.5600],\n",
              "         [0.5800],\n",
              "         [0.6000],\n",
              "         [0.6200],\n",
              "         [0.6400],\n",
              "         [0.6600],\n",
              "         [0.6800],\n",
              "         [0.7000],\n",
              "         [0.7200],\n",
              "         [0.7400],\n",
              "         [0.7600],\n",
              "         [0.7800]]),\n",
              " tensor([[0.3000],\n",
              "         [0.3140],\n",
              "         [0.3280],\n",
              "         [0.3420],\n",
              "         [0.3560],\n",
              "         [0.3700],\n",
              "         [0.3840],\n",
              "         [0.3980],\n",
              "         [0.4120],\n",
              "         [0.4260],\n",
              "         [0.4400],\n",
              "         [0.4540],\n",
              "         [0.4680],\n",
              "         [0.4820],\n",
              "         [0.4960],\n",
              "         [0.5100],\n",
              "         [0.5240],\n",
              "         [0.5380],\n",
              "         [0.5520],\n",
              "         [0.5660],\n",
              "         [0.5800],\n",
              "         [0.5940],\n",
              "         [0.6080],\n",
              "         [0.6220],\n",
              "         [0.6360],\n",
              "         [0.6500],\n",
              "         [0.6640],\n",
              "         [0.6780],\n",
              "         [0.6920],\n",
              "         [0.7060],\n",
              "         [0.7200],\n",
              "         [0.7340],\n",
              "         [0.7480],\n",
              "         [0.7620],\n",
              "         [0.7760],\n",
              "         [0.7900],\n",
              "         [0.8040],\n",
              "         [0.8180],\n",
              "         [0.8320],\n",
              "         [0.8460]]))"
            ]
          },
          "metadata": {},
          "execution_count": 6
        }
      ]
    },
    {
      "cell_type": "code",
      "source": [
        "\n",
        "def plot_predictions(train_data=X_train,\n",
        "                     train_labels=y_train,\n",
        "                     test_data=X_test,\n",
        "                     test_labels=y_test,\n",
        "                     predictions=None):\n",
        "  \"\"\"\n",
        "  Plots training data, test data and compares predictions.\n",
        "  \"\"\"\n",
        "  plt.figure(figsize=(10, 7))\n",
        "\n",
        "  # Plot training data in blue\n",
        "  plt.scatter(train_data, train_labels, c=\"b\", s=4, label=\"Training data\")\n",
        "\n",
        "  # Plot test data in green\n",
        "  plt.scatter(test_data, test_labels, c=\"g\", s=4, label=\"Testing data\")\n",
        "\n",
        "  # Are there predictions?\n",
        "  if predictions is not None:\n",
        "    # Plot the predictions if they exist\n",
        "    plt.scatter(test_data, predictions, c=\"r\", s=4, label=\"Predictions\")\n",
        "\n",
        "  # Show the legend\n",
        "  plt.legend(prop={\"size\": 14});\n"
      ],
      "metadata": {
        "id": "SM05b0WpBQzF"
      },
      "execution_count": null,
      "outputs": []
    },
    {
      "cell_type": "code",
      "source": [
        "class LinearRegressionModel(nn.Module):\n",
        "  def __init__(self):\n",
        "    super().__init__()\n",
        "    self.weights = nn.Parameter(torch.randn(1,requires_grad=True,dtype=torch.float32))\n",
        "    self.bias = nn.Parameter(torch.randn(1,requires_grad=True,dtype = torch.float))\n",
        "\n",
        "  def forward(self,x:torch.Tensor)->torch.Tensor:\n",
        "    return self.weights*x + bias\n",
        "\n"
      ],
      "metadata": {
        "id": "3iLI7VG0DyTG"
      },
      "execution_count": null,
      "outputs": []
    },
    {
      "cell_type": "code",
      "source": [
        "torch.manual_seed(42)\n",
        "model_0 =  LinearRegressionModel()\n",
        "\n",
        "list(model_0.parameters())"
      ],
      "metadata": {
        "colab": {
          "base_uri": "https://localhost:8080/"
        },
        "id": "2z4G0K_-HAQS",
        "outputId": "c97a66d4-05ac-4710-9746-e076fcba67ca"
      },
      "execution_count": null,
      "outputs": [
        {
          "output_type": "execute_result",
          "data": {
            "text/plain": [
              "[Parameter containing:\n",
              " tensor([0.3367], requires_grad=True),\n",
              " Parameter containing:\n",
              " tensor([0.1288], requires_grad=True)]"
            ]
          },
          "metadata": {},
          "execution_count": 9
        }
      ]
    },
    {
      "cell_type": "code",
      "source": [
        "loss_fn = nn.L1Loss()\n",
        "\n",
        "optimizer = torch.optim.SGD(params = model_0.parameters(),lr = 0.01)"
      ],
      "metadata": {
        "id": "B2qhzXPYO0ST"
      },
      "execution_count": null,
      "outputs": []
    },
    {
      "cell_type": "markdown",
      "source": [
        "###Building a Trainig loop in pytorch"
      ],
      "metadata": {
        "id": "EQNHYdiDLmQD"
      }
    },
    {
      "cell_type": "code",
      "source": [
        "torch.manual_seed(42)\n",
        "\n",
        "# An epoch is one loop through the data... (this is a hyperparameter because we've set it ourselves)\n",
        "epochs = 200\n",
        "\n",
        "# Track different values\n",
        "epoch_count = []\n",
        "loss_values = []\n",
        "test_loss_values = []\n",
        "\n",
        "### Training\n",
        "# 0. Loop through the data\n",
        "for epoch in range(epochs):\n",
        "  # Set the model to training mode\n",
        "  model_0.train() # train mode in PyTorch sets all parameters that require gradients to require gradients\n",
        "\n",
        "  # 1. Forward pass\n",
        "  y_pred = model_0(X_train)\n",
        "\n",
        "  # 2. Calculate the loss\n",
        "  loss = loss_fn(y_pred, y_train)\n",
        "\n",
        "  # 3. Optimizer zero grad\n",
        "  optimizer.zero_grad()\n",
        "\n",
        "  # 4. Perform backpropagation on the loss with respect to the parameters of the model (calculate gradients of each parameter)\n",
        "  loss.backward()\n",
        "\n",
        "  # 5. Step the optimizer (perform gradient descent)\n",
        "  optimizer.step() # by default how the optimizer changes will acculumate through the loop so... we have to zero them above in step 3 for the next iteration of the loop\n",
        "\n",
        "  ### Testing\n",
        "  model_0.eval() # turns off different settings in the model not needed for evaluation/testing (dropout/batch norm layers)\n",
        "  with torch.inference_mode(): # turns off gradient tracking & a couple more things behind the scenes - https://twitter.com/PyTorch/status/1437838231505096708?s=20&t=aftDZicoiUGiklEP179x7A\n",
        "  # with torch.no_grad(): # you may also see torch.no_grad() in older PyTorch code\n",
        "    # 1. Do the forward pass\n",
        "        test_pred = model_0(X_test)\n",
        "\n",
        "    # 2. Calculate the loss\n",
        "        test_loss = loss_fn(test_pred, y_test)\n",
        "\n",
        "  # Print out what's happenin'\n",
        "  if epoch % 10 == 0:\n",
        "    epoch_count.append(epoch)\n",
        "    loss_values.append(loss)\n",
        "    test_loss_values.append(test_loss)\n",
        "    print(f\"Epoch: {epoch} | Loss: {loss} | Test loss: {test_loss}\")\n",
        "    # Print out model state_dict()\n",
        "    print(model_0.state_dict())"
      ],
      "metadata": {
        "colab": {
          "base_uri": "https://localhost:8080/"
        },
        "id": "81Xu1LqAbrMw",
        "outputId": "e1578770-dd63-4a08-a841-4e5b8fe7e94e"
      },
      "execution_count": null,
      "outputs": [
        {
          "output_type": "stream",
          "name": "stdout",
          "text": [
            "Epoch: 0 | Loss: 0.14169074594974518 | Test loss: 0.3198745846748352\n",
            "OrderedDict([('weights', tensor([0.3406])), ('bias', tensor([0.1288]))])\n",
            "Epoch: 10 | Loss: 0.12648078799247742 | Test loss: 0.28516465425491333\n",
            "OrderedDict([('weights', tensor([0.3796])), ('bias', tensor([0.1288]))])\n",
            "Epoch: 20 | Loss: 0.11127082258462906 | Test loss: 0.25045472383499146\n",
            "OrderedDict([('weights', tensor([0.4186])), ('bias', tensor([0.1288]))])\n",
            "Epoch: 30 | Loss: 0.0960608422756195 | Test loss: 0.21574480831623077\n",
            "OrderedDict([('weights', tensor([0.4576])), ('bias', tensor([0.1288]))])\n",
            "Epoch: 40 | Loss: 0.08085088431835175 | Test loss: 0.1810348629951477\n",
            "OrderedDict([('weights', tensor([0.4966])), ('bias', tensor([0.1288]))])\n",
            "Epoch: 50 | Loss: 0.06564091145992279 | Test loss: 0.14632496237754822\n",
            "OrderedDict([('weights', tensor([0.5356])), ('bias', tensor([0.1288]))])\n",
            "Epoch: 60 | Loss: 0.050430942326784134 | Test loss: 0.11161501705646515\n",
            "OrderedDict([('weights', tensor([0.5746])), ('bias', tensor([0.1288]))])\n",
            "Epoch: 70 | Loss: 0.035220976918935776 | Test loss: 0.07690508663654327\n",
            "OrderedDict([('weights', tensor([0.6136])), ('bias', tensor([0.1288]))])\n",
            "Epoch: 80 | Loss: 0.02001100964844227 | Test loss: 0.04219517856836319\n",
            "OrderedDict([('weights', tensor([0.6526])), ('bias', tensor([0.1288]))])\n",
            "Epoch: 90 | Loss: 0.004801043774932623 | Test loss: 0.007485252805054188\n",
            "OrderedDict([('weights', tensor([0.6916])), ('bias', tensor([0.1288]))])\n",
            "Epoch: 100 | Loss: 0.0012829385232180357 | Test loss: 0.000543272471986711\n",
            "OrderedDict([('weights', tensor([0.6994])), ('bias', tensor([0.1288]))])\n",
            "Epoch: 110 | Loss: 0.0012829385232180357 | Test loss: 0.000543272471986711\n",
            "OrderedDict([('weights', tensor([0.6994])), ('bias', tensor([0.1288]))])\n",
            "Epoch: 120 | Loss: 0.0012829385232180357 | Test loss: 0.000543272471986711\n",
            "OrderedDict([('weights', tensor([0.6994])), ('bias', tensor([0.1288]))])\n",
            "Epoch: 130 | Loss: 0.0012829385232180357 | Test loss: 0.000543272471986711\n",
            "OrderedDict([('weights', tensor([0.6994])), ('bias', tensor([0.1288]))])\n",
            "Epoch: 140 | Loss: 0.0012829385232180357 | Test loss: 0.000543272471986711\n",
            "OrderedDict([('weights', tensor([0.6994])), ('bias', tensor([0.1288]))])\n",
            "Epoch: 150 | Loss: 0.0012829385232180357 | Test loss: 0.000543272471986711\n",
            "OrderedDict([('weights', tensor([0.6994])), ('bias', tensor([0.1288]))])\n",
            "Epoch: 160 | Loss: 0.0012829385232180357 | Test loss: 0.000543272471986711\n",
            "OrderedDict([('weights', tensor([0.6994])), ('bias', tensor([0.1288]))])\n",
            "Epoch: 170 | Loss: 0.0012829385232180357 | Test loss: 0.000543272471986711\n",
            "OrderedDict([('weights', tensor([0.6994])), ('bias', tensor([0.1288]))])\n",
            "Epoch: 180 | Loss: 0.0012829385232180357 | Test loss: 0.000543272471986711\n",
            "OrderedDict([('weights', tensor([0.6994])), ('bias', tensor([0.1288]))])\n",
            "Epoch: 190 | Loss: 0.0012829385232180357 | Test loss: 0.000543272471986711\n",
            "OrderedDict([('weights', tensor([0.6994])), ('bias', tensor([0.1288]))])\n"
          ]
        }
      ]
    },
    {
      "cell_type": "code",
      "source": [
        "with torch.no_grad():\n",
        "  y_pred_new = model_0(X_test)"
      ],
      "metadata": {
        "id": "npWbEFEykl-7"
      },
      "execution_count": null,
      "outputs": []
    },
    {
      "cell_type": "code",
      "source": [
        "plot_predictions(predictions = y_pred_new);"
      ],
      "metadata": {
        "colab": {
          "base_uri": "https://localhost:8080/",
          "height": 472
        },
        "id": "FR4EgX_FlDQg",
        "outputId": "7f74534f-f556-433a-84e4-6b72d45daf44"
      },
      "execution_count": null,
      "outputs": [
        {
          "output_type": "display_data",
          "data": {
            "text/plain": [
              "<Figure size 1000x700 with 1 Axes>"
            ],
            "image/png": "[encoded data removed]"
          },
          "metadata": {}
        }
      ]
    },
    {
      "cell_type": "code",
      "source": [
        "from pathlib import Path\n",
        "\n",
        "MODEL_PATH = Path(\"models\")\n",
        "MODEL_PATH.mkdir(parents = \"True\",exist_ok = True)\n",
        "MODEL_NAME = \"01_pytorch.pth\"\n",
        "MODEL_SAVE_PATH = MODEL_PATH/MODEL_NAME\n",
        "\n",
        "MODEL_SAVE_PATH"
      ],
      "metadata": {
        "colab": {
          "base_uri": "https://localhost:8080/"
        },
        "id": "wJ262pGWl7aC",
        "outputId": "6c13ab0d-e365-4473-9984-31a0ce3dcc34"
      },
      "execution_count": null,
      "outputs": [
        {
          "output_type": "execute_result",
          "data": {
            "text/plain": [
              "PosixPath('models/01_pytorch.pth')"
            ]
          },
          "metadata": {},
          "execution_count": 14
        }
      ]
    },
    {
      "cell_type": "code",
      "source": [
        "torch.save(obj = model_0.state_dict(),\n",
        "           f = MODEL_SAVE_PATH)"
      ],
      "metadata": {
        "id": "Q2R0JX87zHRj"
      },
      "execution_count": null,
      "outputs": []
    },
    {
      "cell_type": "code",
      "source": [
        "ls -l models"
      ],
      "metadata": {
        "colab": {
          "base_uri": "https://localhost:8080/"
        },
        "id": "PliKeDYkz_Nq",
        "outputId": "d44293db-f5d2-4732-9d8f-c2003a3f9e72"
      },
      "execution_count": 1,
      "outputs": [
        {
          "output_type": "stream",
          "name": "stdout",
          "text": [
            "ls: cannot access 'models': No such file or directory\n"
          ]
        }
      ]
    }
  ]
}